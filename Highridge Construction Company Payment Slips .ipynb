{
 "cells": [
  {
   "cell_type": "markdown",
   "metadata": {},
   "source": [
    "In this assignment, you will act as a software engineer contracted by Highridge Construction Company. Your task is to develop a Python program to facilitate the weekly payments of workers. \n",
    "The program should accomplish the following tasks:\n",
    "\n",
    "Use variables to create a list of workers dynamically (at least 400 workers).\n",
    "Utilize a for loop to generate payment slips for each of the 400 workers.\n",
    "Implement the following conditional statements within the for loop:\n",
    "If the salary is greater than 10,000 usd and less than 20,000 usd, assign the Employee level as \"A1.\"\n",
    "If the salary is greater than 7,500 usd and less than 30,000 usd and the employee is female, set the Employee level as \"A5-F.\"\n",
    "Add exception handling to your Python code to address potential errors.\n",
    "Convert your Python code into R.\n",
    "Package your code into a zipped file and include a README file for submission. Share the zipped file or a link to your GitHub repository."
   ]
  },
  {
   "cell_type": "code",
   "execution_count": 22,
   "metadata": {},
   "outputs": [],
   "source": [
    "#Define a class for the workers that will help us bundle the data and the functionalities together.\n",
    "#The class will help us create new instances of workers\n",
    "\n",
    "class Worker:\n",
    "    def __init__(self, worker_id, fname, lname, age, gender, pay):\n",
    "        \n",
    "        self.worker_id = worker_id\n",
    "        self.fname = fname\n",
    "        self.lname = lname\n",
    "        self.age = age\n",
    "        self.gender = gender\n",
    "        self.pay = pay\n",
    "        self.employee_level = None\n",
    "        \n",
    "    #define a method for assigining the levels for the employees\n",
    "    \n",
    "    def level_assign(self):\n",
    "        try: # use the try statement to specify exception handlers for the statements\n",
    "            if self.pay > 10000 and self.pay < 20000:\n",
    "                self.employee_level = \"A1\"\n",
    "            if self.pay > 7500 and self.pay < 30000 and self.gender == 'female':\n",
    "                self.employee_level = \"A5-F\"\n",
    "                \n",
    "        except Exception as e:\n",
    "            print(f\"Could not assign level for the worker {self.worker_id}: {e}\")\n",
    "            \n",
    "    def generate_payment_slip(self):\n",
    "        return f\"Worker ID: {self.worker_id}, Name: {self.fname} {self.lname}, Pay: ${self.pay}, Employee Level: {self.employee_level}\"\n",
    "        \n",
    "        \n",
    "    \n"
   ]
  },
  {
   "cell_type": "code",
   "execution_count": 23,
   "metadata": {},
   "outputs": [],
   "source": [
    "#Define a function to generate random workers\n",
    "#Use of the random module in python\n",
    "\n",
    "import random #Import the random module\n",
    "def generate_workers(num_of_workers=400):\n",
    "    workers = [] #Empty list to which we will append the workers\n",
    "    for i in range (1, num_of_workers + 1):\n",
    "        fname = f\"Worker_{i}_First\"\n",
    "        lname = f\"Worker_{i}_Last\"\n",
    "        age = random.randint(20, 60)\n",
    "        gender = random.choice([\"Male\", \"Female\"])\n",
    "        pay = random.randint(2000, 40000)\n",
    "        worker = Worker(worker_id=i, fname=fname, lname=lname, age=age, gender=gender, pay=pay)\n",
    "        workers.append(worker)\n",
    "    return workers\n"
   ]
  },
  {
   "cell_type": "code",
   "execution_count": 24,
   "metadata": {},
   "outputs": [],
   "source": [
    "# Define a function to process the workers\n",
    "\n",
    "def process_workers():\n",
    "    workers = generate_workers()\n",
    "    for w in workers:\n",
    "        try:\n",
    "            w.level_assign()\n",
    "            payment_slip = w.generate_payment_slip() \n",
    "        except Exception as e:\n",
    "            print(f\"Error processing worker {w.worker_id}: {e}\")\n",
    "    "
   ]
  },
  {
   "cell_type": "code",
   "execution_count": 26,
   "metadata": {},
   "outputs": [
    {
     "name": "stdout",
     "output_type": "stream",
     "text": [
      "Worker ID: 1, Name: Dominic Njue, Pay: $15000, Employee Level: A1\n"
     ]
    }
   ],
   "source": [
    "#Create an instance of a worker\n",
    "worker1 = Worker(worker_id=1, fname=\"Dominic\", lname=\"Njue\", age=35, gender=\"Male\", pay=15000)\n",
    "worker1.level_assign()\n",
    "payment_slip = worker1.generate_payment_slip()\n",
    "print(payment_slip)"
   ]
  },
  {
   "cell_type": "code",
   "execution_count": null,
   "metadata": {},
   "outputs": [],
   "source": []
  }
 ],
 "metadata": {
  "kernelspec": {
   "display_name": "Python (learn-env)",
   "language": "python",
   "name": "learn-env"
  },
  "language_info": {
   "codemirror_mode": {
    "name": "ipython",
    "version": 3
   },
   "file_extension": ".py",
   "mimetype": "text/x-python",
   "name": "python",
   "nbconvert_exporter": "python",
   "pygments_lexer": "ipython3",
   "version": "3.8.5"
  }
 },
 "nbformat": 4,
 "nbformat_minor": 4
}
